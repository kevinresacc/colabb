{
  "nbformat": 4,
  "nbformat_minor": 0,
  "metadata": {
    "colab": {
      "provenance": [],
      "authorship_tag": "ABX9TyONnowdo8ZXtPgYB5wsxseh",
      "include_colab_link": true
    },
    "kernelspec": {
      "name": "python3",
      "display_name": "Python 3"
    },
    "language_info": {
      "name": "python"
    }
  },
  "cells": [
    {
      "cell_type": "markdown",
      "metadata": {
        "id": "view-in-github",
        "colab_type": "text"
      },
      "source": [
        "<a href=\"https://colab.research.google.com/github/kevinresacc/colabb/blob/main/Untitled0.ipynb\" target=\"_parent\"><img src=\"https://colab.research.google.com/assets/colab-badge.svg\" alt=\"Open In Colab\"/></a>"
      ]
    },
    {
      "cell_type": "code",
      "execution_count": null,
      "metadata": {
        "colab": {
          "base_uri": "https://localhost:8080/"
        },
        "id": "lScVPkvVuuWY",
        "outputId": "6862dd5a-ec40-4110-8052-38717c90edec"
      },
      "outputs": [
        {
          "output_type": "stream",
          "name": "stdout",
          "text": [
            "Requirement already satisfied: pycryptodome in /usr/local/lib/python3.11/dist-packages (3.22.0)\n",
            "🔐 Tarjeta cifrada (Base64): U/bU7iOnNSErru4vsNdn5Q0YO9wlQq1gYV5MWYDD0vE=\n",
            "🔒 Clave AES cifrada con RSA (Base64): Xbu22rqcq5yzJuifWhlqXTAxnfr/mNQQFoOALe+YdsB3i7/3CfOLc31r5wBER3t9pyT1VUqIjMhpctKwywjVS+4ahw8zqBI1EkK5xkmXDmv/5buYVlyFrY9G5ZGUWh+KTk6IS0oOAAJWufnblQAwC4glHmuOmIpbUBZnoI8xLrc3IuWhK0oRdzFO/2Iiibt4wxTAmt9zWymCBbQNZ3f7soBvxH9E+UuP9HMq+l6M9zpiJKHkJNBPAusnLjVKLqa+EzrFZt3eO42gtZRfqAHzAaNN9DuamlsNn/iHzBJ/bhtUivr/MMeYTjs+L9rCEzaOP9EYUo0J/roGhnADfC8r8A==\n",
            "🔓 Clave AES descifrada: 3bb546198a146c1b71a99098563c0a46223bcc1d9aa0955ba4e7acaf5f5e697a\n",
            "💳 Tarjeta de crédito descifrada: 123345567\n"
          ]
        }
      ],
      "source": [
        "\n",
        "!pip install pycryptodome\n",
        "\n",
        "from Crypto.Cipher import AES, PKCS1_OAEP\n",
        "from Crypto.Util.Padding import pad, unpad\n",
        "from Crypto.Random import get_random_bytes\n",
        "from Crypto.PublicKey import RSA\n",
        "import base64\n",
        "\n",
        "\n",
        "tarjeta_credito = \"123345567\"  # Ejemplo de número de tarjeta\n",
        "\n",
        "clave_aes = get_random_bytes(32)\n",
        "\n",
        "iv = get_random_bytes(16)  # Vector de inicialización\n",
        "cipher = AES.new(clave_aes, AES.MODE_CBC, iv)\n",
        "\n",
        "datos_cifrados = cipher.encrypt(pad(tarjeta_credito.encode(), AES.block_size))\n",
        "\n",
        "datos_cifrados_b64 = base64.b64encode(iv + datos_cifrados).decode()\n",
        "print(\"🔐 Tarjeta cifrada (Base64):\", datos_cifrados_b64)\n",
        "\n",
        "\n",
        "clave_rsa = RSA.generate(2048)\n",
        "clave_publica = clave_rsa.publickey()\n",
        "\n",
        "cipher_rsa = PKCS1_OAEP.new(clave_publica)\n",
        "clave_aes_cifrada = cipher_rsa.encrypt(clave_aes)\n",
        "\n",
        "\n",
        "clave_aes_cifrada_b64 = base64.b64encode(clave_aes_cifrada).decode()\n",
        "print(\"🔒 Clave AES cifrada con RSA (Base64):\", clave_aes_cifrada_b64)\n",
        "\n",
        "\n",
        "cipher_rsa_descifrado = PKCS1_OAEP.new(clave_rsa)\n",
        "clave_aes_descifrada = cipher_rsa_descifrado.decrypt(base64.b64decode(clave_aes_cifrada_b64))\n",
        "\n",
        "print(\"🔓 Clave AES descifrada:\", clave_aes_descifrada.hex())\n",
        "\n",
        "datos_cifrados_decoded = base64.b64decode(datos_cifrados_b64)\n",
        "iv_recuperado = datos_cifrados_decoded[:16]\n",
        "datos_cifrados_real = datos_cifrados_decoded[16:]\n",
        "\n",
        "cipher_dec = AES.new(clave_aes_descifrada, AES.MODE_CBC, iv_recuperado)\n",
        "\n",
        "tarjeta_descifrada = unpad(cipher_dec.decrypt(datos_cifrados_real), AES.block_size).decode()\n",
        "\n",
        "print(\"💳 Tarjeta de crédito descifrada:\", tarjeta_descifrada)"
      ]
    }
  ]
}